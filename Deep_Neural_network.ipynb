{
  "nbformat": 4,
  "nbformat_minor": 0,
  "metadata": {
    "colab": {
      "name": "Deep Neural network.ipynb",
      "provenance": [],
      "authorship_tag": "ABX9TyOFfVZK2IlYGttvj6U134vN",
      "include_colab_link": true
    },
    "kernelspec": {
      "name": "python3",
      "display_name": "Python 3"
    }
  },
  "cells": [
    {
      "cell_type": "markdown",
      "metadata": {
        "id": "view-in-github",
        "colab_type": "text"
      },
      "source": [
        "<a href=\"https://colab.research.google.com/github/tobyzawthuhtet/deep-learning-/blob/main/Deep_Neural_network.ipynb\" target=\"_parent\"><img src=\"https://colab.research.google.com/assets/colab-badge.svg\" alt=\"Open In Colab\"/></a>"
      ]
    },
    {
      "cell_type": "code",
      "metadata": {
        "id": "Ui47ju6VQEjX"
      },
      "source": [
        "import matplotlib.pyplot as plt\n",
        "import pandas as pd\n",
        "import numpy as np\n",
        "import keras"
      ],
      "execution_count": null,
      "outputs": []
    },
    {
      "cell_type": "code",
      "metadata": {
        "id": "aVm-Ap8ZQMjC"
      },
      "source": [
        "df = pd.read_csv('/content/sample_data/HousingPrices.csv')"
      ],
      "execution_count": null,
      "outputs": []
    },
    {
      "cell_type": "code",
      "metadata": {
        "id": "DMBqe_A-QvVb",
        "colab": {
          "base_uri": "https://localhost:8080/",
          "height": 197
        },
        "outputId": "ee435dc5-4247-43cb-f4c8-df8f426389c8"
      },
      "source": [
        "df.head()"
      ],
      "execution_count": null,
      "outputs": [
        {
          "output_type": "execute_result",
          "data": {
            "text/html": [
              "<div>\n",
              "<style scoped>\n",
              "    .dataframe tbody tr th:only-of-type {\n",
              "        vertical-align: middle;\n",
              "    }\n",
              "\n",
              "    .dataframe tbody tr th {\n",
              "        vertical-align: top;\n",
              "    }\n",
              "\n",
              "    .dataframe thead th {\n",
              "        text-align: right;\n",
              "    }\n",
              "</style>\n",
              "<table border=\"1\" class=\"dataframe\">\n",
              "  <thead>\n",
              "    <tr style=\"text-align: right;\">\n",
              "      <th></th>\n",
              "      <th>YearBuilt</th>\n",
              "      <th>2ndFlrSF</th>\n",
              "      <th>GrLivArea</th>\n",
              "      <th>FullBath</th>\n",
              "      <th>HalfBath</th>\n",
              "      <th>BedroomAbvGr</th>\n",
              "      <th>TotRmsAbvGrd</th>\n",
              "      <th>YrSold</th>\n",
              "      <th>SalePrice</th>\n",
              "    </tr>\n",
              "  </thead>\n",
              "  <tbody>\n",
              "    <tr>\n",
              "      <th>0</th>\n",
              "      <td>2003</td>\n",
              "      <td>854</td>\n",
              "      <td>1710</td>\n",
              "      <td>2</td>\n",
              "      <td>1</td>\n",
              "      <td>3</td>\n",
              "      <td>8</td>\n",
              "      <td>2008</td>\n",
              "      <td>208500</td>\n",
              "    </tr>\n",
              "    <tr>\n",
              "      <th>1</th>\n",
              "      <td>1976</td>\n",
              "      <td>0</td>\n",
              "      <td>1262</td>\n",
              "      <td>2</td>\n",
              "      <td>0</td>\n",
              "      <td>3</td>\n",
              "      <td>6</td>\n",
              "      <td>2007</td>\n",
              "      <td>181500</td>\n",
              "    </tr>\n",
              "    <tr>\n",
              "      <th>2</th>\n",
              "      <td>2001</td>\n",
              "      <td>866</td>\n",
              "      <td>1786</td>\n",
              "      <td>2</td>\n",
              "      <td>1</td>\n",
              "      <td>3</td>\n",
              "      <td>6</td>\n",
              "      <td>2008</td>\n",
              "      <td>223500</td>\n",
              "    </tr>\n",
              "    <tr>\n",
              "      <th>3</th>\n",
              "      <td>1915</td>\n",
              "      <td>756</td>\n",
              "      <td>1717</td>\n",
              "      <td>1</td>\n",
              "      <td>0</td>\n",
              "      <td>3</td>\n",
              "      <td>7</td>\n",
              "      <td>2006</td>\n",
              "      <td>140000</td>\n",
              "    </tr>\n",
              "    <tr>\n",
              "      <th>4</th>\n",
              "      <td>2000</td>\n",
              "      <td>1053</td>\n",
              "      <td>2198</td>\n",
              "      <td>2</td>\n",
              "      <td>1</td>\n",
              "      <td>4</td>\n",
              "      <td>9</td>\n",
              "      <td>2008</td>\n",
              "      <td>250000</td>\n",
              "    </tr>\n",
              "  </tbody>\n",
              "</table>\n",
              "</div>"
            ],
            "text/plain": [
              "   YearBuilt  2ndFlrSF  GrLivArea  ...  TotRmsAbvGrd  YrSold  SalePrice\n",
              "0       2003       854       1710  ...             8    2008     208500\n",
              "1       1976         0       1262  ...             6    2007     181500\n",
              "2       2001       866       1786  ...             6    2008     223500\n",
              "3       1915       756       1717  ...             7    2006     140000\n",
              "4       2000      1053       2198  ...             9    2008     250000\n",
              "\n",
              "[5 rows x 9 columns]"
            ]
          },
          "metadata": {
            "tags": []
          },
          "execution_count": 3
        }
      ]
    },
    {
      "cell_type": "code",
      "metadata": {
        "id": "db2hmFsYQ0O3"
      },
      "source": [
        "x = df.drop(columns=['SalePrice'])\n",
        "y = df[('SalePrice')]"
      ],
      "execution_count": null,
      "outputs": []
    },
    {
      "cell_type": "code",
      "metadata": {
        "id": "RaK-TN0NRO1f"
      },
      "source": [
        "model = keras.Sequential()\n",
        "model.add(keras.layers.Dense(8 , activation= 'relu', input_shape=(8,)))\n",
        "model.add(keras.layers.Dense(8 , activation='relu'))\n",
        "model.add(keras.layers.Dense(1))\n"
      ],
      "execution_count": null,
      "outputs": []
    },
    {
      "cell_type": "code",
      "metadata": {
        "id": "RdCtFpEKSeZh"
      },
      "source": [
        "model.compile(optimizer='adam' , loss = 'mean_squared_error')"
      ],
      "execution_count": null,
      "outputs": []
    },
    {
      "cell_type": "code",
      "metadata": {
        "id": "LXaJ8Vv7Sn7J",
        "colab": {
          "base_uri": "https://localhost:8080/",
          "height": 1000
        },
        "outputId": "1c8e7ca5-7375-412f-838d-b919df8468d1"
      },
      "source": [
        "model.fit( x ,y , epochs= 30, batch_size= 10)"
      ],
      "execution_count": null,
      "outputs": [
        {
          "output_type": "stream",
          "text": [
            "Epoch 1/30\n",
            "146/146 [==============================] - 0s 816us/step - loss: 38552993792.0000\n",
            "Epoch 2/30\n",
            "146/146 [==============================] - 0s 832us/step - loss: 35470024704.0000\n",
            "Epoch 3/30\n",
            "146/146 [==============================] - 0s 830us/step - loss: 25979340800.0000\n",
            "Epoch 4/30\n",
            "146/146 [==============================] - 0s 803us/step - loss: 12795966464.0000\n",
            "Epoch 5/30\n",
            "146/146 [==============================] - 0s 781us/step - loss: 5630726656.0000\n",
            "Epoch 6/30\n",
            "146/146 [==============================] - 0s 790us/step - loss: 4340742656.0000\n",
            "Epoch 7/30\n",
            "146/146 [==============================] - 0s 802us/step - loss: 4273762816.0000\n",
            "Epoch 8/30\n",
            "146/146 [==============================] - 0s 786us/step - loss: 4250677760.0000\n",
            "Epoch 9/30\n",
            "146/146 [==============================] - 0s 952us/step - loss: 4215862528.0000\n",
            "Epoch 10/30\n",
            "146/146 [==============================] - 0s 829us/step - loss: 4196385792.0000\n",
            "Epoch 11/30\n",
            "146/146 [==============================] - 0s 843us/step - loss: 4164093440.0000\n",
            "Epoch 12/30\n",
            "146/146 [==============================] - 0s 805us/step - loss: 4140402176.0000\n",
            "Epoch 13/30\n",
            "146/146 [==============================] - 0s 772us/step - loss: 4114300416.0000\n",
            "Epoch 14/30\n",
            "146/146 [==============================] - 0s 807us/step - loss: 4083112960.0000\n",
            "Epoch 15/30\n",
            "146/146 [==============================] - 0s 769us/step - loss: 4054854144.0000\n",
            "Epoch 16/30\n",
            "146/146 [==============================] - 0s 826us/step - loss: 4026528256.0000\n",
            "Epoch 17/30\n",
            "146/146 [==============================] - 0s 829us/step - loss: 4000133632.0000\n",
            "Epoch 18/30\n",
            "146/146 [==============================] - 0s 815us/step - loss: 3970224128.0000\n",
            "Epoch 19/30\n",
            "146/146 [==============================] - 0s 777us/step - loss: 3938348800.0000\n",
            "Epoch 20/30\n",
            "146/146 [==============================] - 0s 826us/step - loss: 3916024576.0000\n",
            "Epoch 21/30\n",
            "146/146 [==============================] - 0s 769us/step - loss: 3891693312.0000\n",
            "Epoch 22/30\n",
            "146/146 [==============================] - 0s 785us/step - loss: 3849121280.0000\n",
            "Epoch 23/30\n",
            "146/146 [==============================] - 0s 851us/step - loss: 3818824448.0000\n",
            "Epoch 24/30\n",
            "146/146 [==============================] - 0s 804us/step - loss: 3768103936.0000\n",
            "Epoch 25/30\n",
            "146/146 [==============================] - 0s 807us/step - loss: 3728381440.0000\n",
            "Epoch 26/30\n",
            "146/146 [==============================] - 0s 791us/step - loss: 3680278272.0000\n",
            "Epoch 27/30\n",
            "146/146 [==============================] - 0s 789us/step - loss: 3637464576.0000\n",
            "Epoch 28/30\n",
            "146/146 [==============================] - 0s 836us/step - loss: 3589263360.0000\n",
            "Epoch 29/30\n",
            "146/146 [==============================] - 0s 774us/step - loss: 3561517056.0000\n",
            "Epoch 30/30\n",
            "146/146 [==============================] - 0s 798us/step - loss: 3517326848.0000\n"
          ],
          "name": "stdout"
        },
        {
          "output_type": "execute_result",
          "data": {
            "text/plain": [
              "<tensorflow.python.keras.callbacks.History at 0x7f52b6cd5a90>"
            ]
          },
          "metadata": {
            "tags": []
          },
          "execution_count": 15
        }
      ]
    },
    {
      "cell_type": "code",
      "metadata": {
        "id": "-grODUjvSx9c",
        "colab": {
          "base_uri": "https://localhost:8080/",
          "height": 33
        },
        "outputId": "9250013d-300a-4a14-d052-f2d7c2e1b72c"
      },
      "source": [
        "test_data = np.array([2003,\t854,\t1710,\t2,\t1\t,3,\t8,\t2008\t])\n",
        "print (model.predict(test_data.reshape (1,8), batch_size= 1))"
      ],
      "execution_count": null,
      "outputs": [
        {
          "output_type": "stream",
          "text": [
            "[[199983.28]]\n"
          ],
          "name": "stdout"
        }
      ]
    },
    {
      "cell_type": "code",
      "metadata": {
        "id": "D27V2yDKTkDa"
      },
      "source": [
        "model.save('housing_model.h5')"
      ],
      "execution_count": null,
      "outputs": []
    },
    {
      "cell_type": "code",
      "metadata": {
        "id": "H-YXK0WFTw2v"
      },
      "source": [
        "old_model = keras.models.load_model('/content/housing_model.h5')"
      ],
      "execution_count": null,
      "outputs": []
    },
    {
      "cell_type": "code",
      "metadata": {
        "id": "fZbcOJlGUJhB",
        "colab": {
          "base_uri": "https://localhost:8080/",
          "height": 33
        },
        "outputId": "d8246f10-c7ee-46f9-e031-2a3de010ec17"
      },
      "source": [
        "test_data = np.array([2003,\t854,\t1710,\t2,\t1\t,3,\t8,\t2008\t])\n",
        "print (model.predict(test_data.reshape (1,8), batch_size= 1))"
      ],
      "execution_count": null,
      "outputs": [
        {
          "output_type": "stream",
          "text": [
            "[[199983.28]]\n"
          ],
          "name": "stdout"
        }
      ]
    },
    {
      "cell_type": "code",
      "metadata": {
        "id": "NcgFQmhHULh3",
        "colab": {
          "base_uri": "https://localhost:8080/",
          "height": 67
        },
        "outputId": "e694dcbb-884a-4a03-f1fd-65f73bb1d2f4"
      },
      "source": [
        "model.layers"
      ],
      "execution_count": null,
      "outputs": [
        {
          "output_type": "execute_result",
          "data": {
            "text/plain": [
              "[<tensorflow.python.keras.layers.core.Dense at 0x7f52bd4eca90>,\n",
              " <tensorflow.python.keras.layers.core.Dense at 0x7f52d4d62978>,\n",
              " <tensorflow.python.keras.layers.core.Dense at 0x7f52bd27ee10>]"
            ]
          },
          "metadata": {
            "tags": []
          },
          "execution_count": 23
        }
      ]
    },
    {
      "cell_type": "code",
      "metadata": {
        "id": "laPx8bJTU55E"
      },
      "source": [
        ""
      ],
      "execution_count": null,
      "outputs": []
    }
  ]
}