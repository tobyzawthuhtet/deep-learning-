{
  "nbformat": 4,
  "nbformat_minor": 0,
  "metadata": {
    "colab": {
      "name": "MNIST Number .ipynb",
      "provenance": [],
      "authorship_tag": "ABX9TyPS9h1P5x4EHnBK7f9nN/yN",
      "include_colab_link": true
    },
    "kernelspec": {
      "name": "python3",
      "display_name": "Python 3"
    }
  },
  "cells": [
    {
      "cell_type": "markdown",
      "metadata": {
        "id": "view-in-github",
        "colab_type": "text"
      },
      "source": [
        "<a href=\"https://colab.research.google.com/github/tobyzawthuhtet/deep-learning-/blob/main/MNIST_Number_.ipynb\" target=\"_parent\"><img src=\"https://colab.research.google.com/assets/colab-badge.svg\" alt=\"Open In Colab\"/></a>"
      ]
    },
    {
      "cell_type": "code",
      "metadata": {
        "id": "yDwTgMDFk4oR"
      },
      "source": [
        "import tensorflow as tf\n",
        "import matplotlib.pyplot as plt\n",
        " \n",
        "\n",
        "from tensorflow.keras.layers import Dense, Conv2D, Flatten,MaxPool2D\n",
        "from tensorflow.keras.models import Sequential\n",
        "\n",
        "alphabet = tf.keras.datasets.mnist \n",
        "\n",
        "(train_img, train_label),(test_img,test_label) = alphabet.load_data()\n",
        "\n",
        "train_img= train_img.reshape(60000,28,28,1)\n",
        "test_img= test_img.reshape(10000,28,28,1)\n",
        "\n",
        "train_img= train_img/255.0\n",
        "test_img = test_img/255.0\n",
        "\n",
        "model = Sequential( [ \n",
        "                     Conv2D(64, (3,3),activation= tf.nn.relu),\n",
        "                    MaxPool2D(2,2),\n",
        "                     Conv2D(64,(3,3),activation=tf.nn.relu),\n",
        "                     MaxPool2D(2,2),\n",
        "                     Flatten(),\n",
        "                     Dense(128, activation=tf.nn.relu),\n",
        "                     Dense(10,activation=tf.nn.softmax)\n",
        "])\n",
        "\n",
        "model.compile(optimizer='Adam',\n",
        "              loss='sparse_categorical_crossentropy',\n",
        "              metrics= ['accuracy'])"
      ],
      "execution_count": null,
      "outputs": []
    },
    {
      "cell_type": "code",
      "metadata": {
        "id": "mDoltcenl3mG",
        "colab": {
          "base_uri": "https://localhost:8080/",
          "height": 133
        },
        "outputId": "cde4846c-cdf5-4356-df54-f3d6f7f5f810"
      },
      "source": [
        "model.fit(train_img,train_label , epochs = 3)"
      ],
      "execution_count": null,
      "outputs": [
        {
          "output_type": "stream",
          "text": [
            "Epoch 1/3\n",
            "1875/1875 [==============================] - 87s 46ms/step - loss: 0.1260 - accuracy: 0.9610\n",
            "Epoch 2/3\n",
            "1875/1875 [==============================] - 88s 47ms/step - loss: 0.0416 - accuracy: 0.9871\n",
            "Epoch 3/3\n",
            "1875/1875 [==============================] - 81s 43ms/step - loss: 0.0277 - accuracy: 0.9912\n"
          ],
          "name": "stdout"
        },
        {
          "output_type": "execute_result",
          "data": {
            "text/plain": [
              "<tensorflow.python.keras.callbacks.History at 0x7f9eecd76f98>"
            ]
          },
          "metadata": {
            "tags": []
          },
          "execution_count": 10
        }
      ]
    },
    {
      "cell_type": "code",
      "metadata": {
        "id": "8eReuHj-zC0_",
        "colab": {
          "base_uri": "https://localhost:8080/",
          "height": 50
        },
        "outputId": "1db9e796-e7c1-494b-a070-3550ea18e799"
      },
      "source": [
        "model.evaluate(test_img, test_label)"
      ],
      "execution_count": null,
      "outputs": [
        {
          "output_type": "stream",
          "text": [
            "313/313 [==============================] - 4s 13ms/step - loss: 0.0353 - accuracy: 0.9880\n"
          ],
          "name": "stdout"
        },
        {
          "output_type": "execute_result",
          "data": {
            "text/plain": [
              "[0.03534669056534767, 0.9879999756813049]"
            ]
          },
          "metadata": {
            "tags": []
          },
          "execution_count": 12
        }
      ]
    },
    {
      "cell_type": "code",
      "metadata": {
        "id": "AvsKPoUq4DEY"
      },
      "source": [
        "import tensorflow as tf\n",
        "import matplotlib.pyplot as plt\n",
        "\n",
        "from tensorflow.keras.layers import Dense, Flatten\n",
        "from tensorflow.keras.models import Sequential\n",
        "mnist_alphabet = tf.keras.datasets.mnist\n",
        "\n",
        "mnist_alphabet = tf.keras.datasets.mnist\n",
        "plt.imshow(test_img[1], cmap='Greys')\n",
        "print(test_label[1])\n",
        "\n",
        "train_img = train_img/255.0\n",
        "test_img= test_img /255.0\n",
        "\n",
        "model = Sequential( [\n",
        "                     Flatten(input_shape=(28,28)),\n",
        "                     Dense(128, activation=tf.nn.relu),\n",
        "                     Dense(10, activation=tf.nn.softmax,)\n",
        "                     ]\n",
        "    \n",
        ")\n",
        "\n",
        "model.compile (optimizer='adam', loss='sparse_categorical_crossentropy', metrics=['accuracy'])\n",
        "\n",
        "model.fit(train_img,train_label, epochs= 10 , batch_size=5)\n",
        "test_loss= model.evaluate(test_img, test_label)"
      ],
      "execution_count": null,
      "outputs": []
    }
  ]
}